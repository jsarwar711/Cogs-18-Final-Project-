{
 "cells": [
  {
   "cell_type": "markdown",
   "metadata": {},
   "source": [
    "## Project Overview \n",
    "\n",
    "My objective is to create a chatbot that answers questions about the psychological diseases schizophrenia. Schizophrenia is a prototypical psychological disorder that is characterized by both positive and negative symptoms. The positive symptoms, despite what the name may suggest are not actually positive rather, they simply add something to the behavior and  cognition of the patient, and the negative symptoms are characterized by the loss of something from the behavior and cognition of the patient. Since I am a cognitive psychology major, I thought schizophrenia would be an interesting topic to explore, so I decided to make a chatbot to answer some general questions about this disorder. Although schizophrenia is not a common disease, making a chatbot about this mental disorder may help highlight the severity of all mental disorders in general, to help create a sense of understanding among the general public. Ideally, this chatbot, albeit in a small way, will help aid in the de-stigmatization of mental illness as a whole. In order to run the chatbot use pip to install both nltk and newspaper3k. \n",
    "  \n",
    "\n"
   ]
  },
  {
   "cell_type": "markdown",
   "metadata": {},
   "source": [
    "## Links \n",
    "\n",
    "The chatbot will be taking information from the website: \n",
    "https://www.mayoclinic.org/diseases-conditions/schizophrenia/symptoms-causes/syc-20354443'\n",
    "\n",
    "I used this website to learn how to write this code: \n",
    "https://medium.com/@randerson112358/build-your-own-ai-chat-bot-using-python-machine-learning-682ddd8acc29\n",
    "\n",
    "To get the prices of the medication, I used this website: \n",
    "https://www.goodrx.com/schizophrenia/drugs\n"
   ]
  },
  {
   "cell_type": "code",
   "execution_count": 1,
   "metadata": {},
   "outputs": [],
   "source": [
    "from newspaper import Article \n",
    "import random \n",
    "import string\n",
    "from sklearn.feature_extraction.text import TfidfVectorizer\n",
    "from sklearn.metrics.pairwise import cosine_similarity\n",
    "import nltk\n",
    "import numpy as np \n",
    "import warnings\n",
    "import random\n",
    "from my_module.chatbot1 import *\n",
    "# from the module chatbot1 import all functions "
   ]
  },
  {
   "cell_type": "code",
   "execution_count": 2,
   "metadata": {},
   "outputs": [],
   "source": [
    "warnings.filterwarnings('ignore')"
   ]
  },
  {
   "cell_type": "code",
   "execution_count": 3,
   "metadata": {},
   "outputs": [
    {
     "data": {
      "text/plain": [
       "True"
      ]
     },
     "execution_count": 3,
     "metadata": {},
     "output_type": "execute_result"
    }
   ],
   "source": [
    "nltk.download('punkt', quiet=True)\n",
    "nltk.download('wordnet', quiet=True)"
   ]
  },
  {
   "cell_type": "code",
   "execution_count": 4,
   "metadata": {},
   "outputs": [
    {
     "name": "stdout",
     "output_type": "stream",
     "text": [
      "Overview\n",
      "\n",
      "Schizophrenia is a serious mental disorder in which people interpret reality abnormally. Schizophrenia may result in some combination of hallucinations, delusions, and extremely disordered thinking and behavior that impairs daily functioning, and can be disabling.\n",
      "\n",
      "People with schizophrenia require lifelong treatment. Early treatment may help get symptoms under control before serious complications develop and may help improve the long-term outlook.\n",
      "\n",
      "Symptoms\n",
      "\n",
      "Schizophrenia involves a range of problems with thinking (cognition), behavior or emotions. Signs and symptoms may vary, but usually involve delusions, hallucinations or disorganized speech, and reflect an impaired ability to function. Symptoms may include:\n",
      "\n",
      "Delusions. These are false beliefs that are not based in reality. For example, you think that you're being harmed or harassed; certain gestures or comments are directed at you; you have exceptional ability or fame; another person is in love with you; or a major catastrophe is about to occur. Delusions occur in most people with schizophrenia.\n",
      "\n",
      "These are false beliefs that are not based in reality. For example, you think that you're being harmed or harassed; certain gestures or comments are directed at you; you have exceptional ability or fame; another person is in love with you; or a major catastrophe is about to occur. Delusions occur in most people with schizophrenia. Hallucinations. These usually involve seeing or hearing things that don't exist. Yet for the person with schizophrenia, they have the full force and impact of a normal experience. Hallucinations can be in any of the senses, but hearing voices is the most common hallucination.\n",
      "\n",
      "These usually involve seeing or hearing things that don't exist. Yet for the person with schizophrenia, they have the full force and impact of a normal experience. Hallucinations can be in any of the senses, but hearing voices is the most common hallucination. Disorganized thinking (speech). Disorganized thinking is inferred from disorganized speech. Effective communication can be impaired, and answers to questions may be partially or completely unrelated. Rarely, speech may include putting together meaningless words that can't be understood, sometimes known as word salad.\n",
      "\n",
      "Disorganized thinking is inferred from disorganized speech. Effective communication can be impaired, and answers to questions may be partially or completely unrelated. Rarely, speech may include putting together meaningless words that can't be understood, sometimes known as word salad. Extremely disorganized or abnormal motor behavior. This may show in a number of ways, from childlike silliness to unpredictable agitation. Behavior isn't focused on a goal, so it's hard to do tasks. Behavior can include resistance to instructions, inappropriate or bizarre posture, a complete lack of response, or useless and excessive movement.\n",
      "\n",
      "This may show in a number of ways, from childlike silliness to unpredictable agitation. Behavior isn't focused on a goal, so it's hard to do tasks. Behavior can include resistance to instructions, inappropriate or bizarre posture, a complete lack of response, or useless and excessive movement. Negative symptoms. This refers to reduced or lack of ability to function normally. For example, the person may neglect personal hygiene or appear to lack emotion (doesn't make eye contact, doesn't change facial expressions or speaks in a monotone). Also, the person may have lose interest in everyday activities, socially withdraw or lack the ability to experience pleasure.\n",
      "\n",
      "Symptoms can vary in type and severity over time, with periods of worsening and remission of symptoms. Some symptoms may always be present.\n",
      "\n",
      "In men, schizophrenia symptoms typically start in the early to mid-20s. In women, symptoms typically begin in the late 20s. It's uncommon for children to be diagnosed with schizophrenia and rare for those older than age 45.\n",
      "\n",
      "Symptoms in teenagers\n",
      "\n",
      "Schizophrenia symptoms in teenagers are similar to those in adults, but the condition may be more difficult to recognize. This may be in part because some of the early symptoms of schizophrenia in teenagers are common for typical development during teen years, such as:\n",
      "\n",
      "Withdrawal from friends and family\n",
      "\n",
      "A drop in performance at school\n",
      "\n",
      "Trouble sleeping\n",
      "\n",
      "Irritability or depressed mood\n",
      "\n",
      "Lack of motivation\n",
      "\n",
      "Compared with schizophrenia symptoms in adults, teens may be:\n",
      "\n",
      "Less likely to have delusions\n",
      "\n",
      "More likely to have visual hallucinations\n",
      "\n",
      "When to see a doctor\n",
      "\n",
      "People with schizophrenia often lack awareness that their difficulties stem from a mental disorder that requires medical attention. So it often falls to family or friends to get them help.\n",
      "\n",
      "Helping someone who may have schizophrenia\n",
      "\n",
      "If you think someone you know may have symptoms of schizophrenia, talk to him or her about your concerns. Although you can't force someone to seek professional help, you can offer encouragement and support and help your loved one find a qualified doctor or mental health professional.\n",
      "\n",
      "If your loved one poses a danger to self or others or can't provide his or her own food, clothing or shelter, you may need to call 911 or other emergency responders for help so that your loved one can be evaluated by a mental health professional.\n",
      "\n",
      "In some cases, emergency hospitalization may be needed. Laws on involuntary commitment for mental health treatment vary by state. You can contact community mental health agencies or police departments in your area for details.\n",
      "\n",
      "Suicidal thoughts and behavior\n",
      "\n",
      "Suicidal thoughts and behavior are common among people with schizophrenia. If you have a loved one who is in danger of attempting suicide or has made a suicide attempt, make sure someone stays with that person. Call 911 or your local emergency number immediately. Or, if you think you can do so safely, take the person to the nearest hospital emergency room.\n",
      "\n",
      "Causes\n",
      "\n",
      "It's not known what causes schizophrenia, but researchers believe that a combination of genetics, brain chemistry and environment contributes to development of the disorder.\n",
      "\n",
      "Problems with certain naturally occurring brain chemicals, including neurotransmitters called dopamine and glutamate, may contribute to schizophrenia. Neuroimaging studies show differences in the brain structure and central nervous system of people with schizophrenia. While researchers aren't certain about the significance of these changes, they indicate that schizophrenia is a brain disease.\n",
      "\n",
      "Risk factors\n",
      "\n",
      "Although the precise cause of schizophrenia isn't known, certain factors seem to increase the risk of developing or triggering schizophrenia, including:\n",
      "\n",
      "Having a family history of schizophrenia\n",
      "\n",
      "Increased immune system activation, such as from inflammation or autoimmune diseases\n",
      "\n",
      "Older age of the father\n",
      "\n",
      "Some pregnancy and birth complications, such as malnutrition or exposure to toxins or viruses that may impact brain development\n",
      "\n",
      "Taking mind-altering (psychoactive or psychotropic) drugs during teen years and young adulthood\n",
      "\n",
      "Complications\n",
      "\n",
      "Left untreated, schizophrenia can result in severe problems that affect every area of life. Complications that schizophrenia may cause or be associated with include:\n",
      "\n",
      "Suicide, suicide attempts and thoughts of suicide\n",
      "\n",
      "Self-injury\n",
      "\n",
      "Anxiety disorders and obsessive-compulsive disorder (OCD)\n",
      "\n",
      "Depression\n",
      "\n",
      "Abuse of alcohol or other drugs, including tobacco\n",
      "\n",
      "Inability to work or attend school\n",
      "\n",
      "Legal and financial problems and homelessness\n",
      "\n",
      "Social isolation\n",
      "\n",
      "Health and medical problems\n",
      "\n",
      "Being victimized\n",
      "\n",
      "Aggressive behavior, although it's uncommon\n",
      "\n",
      "Prevention\n",
      "\n",
      "There's no sure way to prevent schizophrenia, but sticking with the treatment plan can help prevent relapses or worsening of symptoms. In addition, researchers hope that learning more about risk factors for schizophrenia may lead to earlier diagnosis and treatment.\n"
     ]
    }
   ],
   "source": [
    "# Article giving information about schizophrenia\n",
    "article=Article('https://www.mayoclinic.org/diseases-conditions/schizophrenia/symptoms-causes/syc-20354443')\n",
    "article.download()\n",
    "article.parse()\n",
    "article.nlp()\n",
    "corpus=article.text\n",
    "print(corpus)"
   ]
  },
  {
   "cell_type": "code",
   "execution_count": 5,
   "metadata": {},
   "outputs": [
    {
     "name": "stdout",
     "output_type": "stream",
     "text": [
      "['Overview\\n\\nSchizophrenia is a serious mental disorder in which people interpret reality abnormally.', 'Schizophrenia may result in some combination of hallucinations, delusions, and extremely disordered thinking and behavior that impairs daily functioning, and can be disabling.', 'People with schizophrenia require lifelong treatment.', 'Early treatment may help get symptoms under control before serious complications develop and may help improve the long-term outlook.', 'Symptoms\\n\\nSchizophrenia involves a range of problems with thinking (cognition), behavior or emotions.', 'Signs and symptoms may vary, but usually involve delusions, hallucinations or disorganized speech, and reflect an impaired ability to function.', 'Symptoms may include:\\n\\nDelusions.', 'These are false beliefs that are not based in reality.', \"For example, you think that you're being harmed or harassed; certain gestures or comments are directed at you; you have exceptional ability or fame; another person is in love with you; or a major catastrophe is about to occur.\", 'Delusions occur in most people with schizophrenia.', 'These are false beliefs that are not based in reality.', \"For example, you think that you're being harmed or harassed; certain gestures or comments are directed at you; you have exceptional ability or fame; another person is in love with you; or a major catastrophe is about to occur.\", 'Delusions occur in most people with schizophrenia.', 'Hallucinations.', \"These usually involve seeing or hearing things that don't exist.\", 'Yet for the person with schizophrenia, they have the full force and impact of a normal experience.', 'Hallucinations can be in any of the senses, but hearing voices is the most common hallucination.', \"These usually involve seeing or hearing things that don't exist.\", 'Yet for the person with schizophrenia, they have the full force and impact of a normal experience.', 'Hallucinations can be in any of the senses, but hearing voices is the most common hallucination.', 'Disorganized thinking (speech).', 'Disorganized thinking is inferred from disorganized speech.', 'Effective communication can be impaired, and answers to questions may be partially or completely unrelated.', \"Rarely, speech may include putting together meaningless words that can't be understood, sometimes known as word salad.\", 'Disorganized thinking is inferred from disorganized speech.', 'Effective communication can be impaired, and answers to questions may be partially or completely unrelated.', \"Rarely, speech may include putting together meaningless words that can't be understood, sometimes known as word salad.\", 'Extremely disorganized or abnormal motor behavior.', 'This may show in a number of ways, from childlike silliness to unpredictable agitation.', \"Behavior isn't focused on a goal, so it's hard to do tasks.\", 'Behavior can include resistance to instructions, inappropriate or bizarre posture, a complete lack of response, or useless and excessive movement.', 'This may show in a number of ways, from childlike silliness to unpredictable agitation.', \"Behavior isn't focused on a goal, so it's hard to do tasks.\", 'Behavior can include resistance to instructions, inappropriate or bizarre posture, a complete lack of response, or useless and excessive movement.', 'Negative symptoms.', 'This refers to reduced or lack of ability to function normally.', \"For example, the person may neglect personal hygiene or appear to lack emotion (doesn't make eye contact, doesn't change facial expressions or speaks in a monotone).\", 'Also, the person may have lose interest in everyday activities, socially withdraw or lack the ability to experience pleasure.', 'Symptoms can vary in type and severity over time, with periods of worsening and remission of symptoms.', 'Some symptoms may always be present.', 'In men, schizophrenia symptoms typically start in the early to mid-20s.', 'In women, symptoms typically begin in the late 20s.', \"It's uncommon for children to be diagnosed with schizophrenia and rare for those older than age 45.\", 'Symptoms in teenagers\\n\\nSchizophrenia symptoms in teenagers are similar to those in adults, but the condition may be more difficult to recognize.', 'This may be in part because some of the early symptoms of schizophrenia in teenagers are common for typical development during teen years, such as:\\n\\nWithdrawal from friends and family\\n\\nA drop in performance at school\\n\\nTrouble sleeping\\n\\nIrritability or depressed mood\\n\\nLack of motivation\\n\\nCompared with schizophrenia symptoms in adults, teens may be:\\n\\nLess likely to have delusions\\n\\nMore likely to have visual hallucinations\\n\\nWhen to see a doctor\\n\\nPeople with schizophrenia often lack awareness that their difficulties stem from a mental disorder that requires medical attention.', 'So it often falls to family or friends to get them help.', 'Helping someone who may have schizophrenia\\n\\nIf you think someone you know may have symptoms of schizophrenia, talk to him or her about your concerns.', \"Although you can't force someone to seek professional help, you can offer encouragement and support and help your loved one find a qualified doctor or mental health professional.\", \"If your loved one poses a danger to self or others or can't provide his or her own food, clothing or shelter, you may need to call 911 or other emergency responders for help so that your loved one can be evaluated by a mental health professional.\", 'In some cases, emergency hospitalization may be needed.', 'Laws on involuntary commitment for mental health treatment vary by state.', 'You can contact community mental health agencies or police departments in your area for details.', 'Suicidal thoughts and behavior\\n\\nSuicidal thoughts and behavior are common among people with schizophrenia.', 'If you have a loved one who is in danger of attempting suicide or has made a suicide attempt, make sure someone stays with that person.', 'Call 911 or your local emergency number immediately.', 'Or, if you think you can do so safely, take the person to the nearest hospital emergency room.', \"Causes\\n\\nIt's not known what causes schizophrenia, but researchers believe that a combination of genetics, brain chemistry and environment contributes to development of the disorder.\", 'Problems with certain naturally occurring brain chemicals, including neurotransmitters called dopamine and glutamate, may contribute to schizophrenia.', 'Neuroimaging studies show differences in the brain structure and central nervous system of people with schizophrenia.', \"While researchers aren't certain about the significance of these changes, they indicate that schizophrenia is a brain disease.\", \"Risk factors\\n\\nAlthough the precise cause of schizophrenia isn't known, certain factors seem to increase the risk of developing or triggering schizophrenia, including:\\n\\nHaving a family history of schizophrenia\\n\\nIncreased immune system activation, such as from inflammation or autoimmune diseases\\n\\nOlder age of the father\\n\\nSome pregnancy and birth complications, such as malnutrition or exposure to toxins or viruses that may impact brain development\\n\\nTaking mind-altering (psychoactive or psychotropic) drugs during teen years and young adulthood\\n\\nComplications\\n\\nLeft untreated, schizophrenia can result in severe problems that affect every area of life.\", \"Complications that schizophrenia may cause or be associated with include:\\n\\nSuicide, suicide attempts and thoughts of suicide\\n\\nSelf-injury\\n\\nAnxiety disorders and obsessive-compulsive disorder (OCD)\\n\\nDepression\\n\\nAbuse of alcohol or other drugs, including tobacco\\n\\nInability to work or attend school\\n\\nLegal and financial problems and homelessness\\n\\nSocial isolation\\n\\nHealth and medical problems\\n\\nBeing victimized\\n\\nAggressive behavior, although it's uncommon\\n\\nPrevention\\n\\nThere's no sure way to prevent schizophrenia, but sticking with the treatment plan can help prevent relapses or worsening of symptoms.\", 'In addition, researchers hope that learning more about risk factors for schizophrenia may lead to earlier diagnosis and treatment.']\n"
     ]
    }
   ],
   "source": [
    "#Tokenization\n",
    "text = corpus \n",
    "# convert text into sentences \n",
    "sent_tokens= nltk.sent_tokenize(text)\n",
    "\n",
    "print(sent_tokens)"
   ]
  },
  {
   "cell_type": "code",
   "execution_count": 6,
   "metadata": {},
   "outputs": [
    {
     "name": "stdout",
     "output_type": "stream",
     "text": [
      "!\"#$%&'()*+,-./:;<=>?@[\\]^_`{|}~\n",
      "{33: None, 34: None, 35: None, 36: None, 37: None, 38: None, 39: None, 40: None, 41: None, 42: None, 43: None, 44: None, 45: None, 46: None, 47: None, 58: None, 59: None, 60: None, 61: None, 62: None, 63: None, 64: None, 91: None, 92: None, 93: None, 94: None, 95: None, 96: None, 123: None, 124: None, 125: None, 126: None}\n"
     ]
    }
   ],
   "source": [
    "# Create a dictionary pair to remove punctuation\n",
    "remove_punct_dict = dict((ord(punct) , None) for punct in string.punctuation)\n",
    "\n",
    "print(string.punctuation)\n",
    "print(remove_punct_dict)"
   ]
  },
  {
   "cell_type": "code",
   "execution_count": 7,
   "metadata": {},
   "outputs": [],
   "source": [
    "# A function that returns lemmatized lower case words after removing punctuation from module \n",
    "def lem_normal(text):\n",
    "    return nltk.word_tokenize(text.lower().translate(remove_punct_dict))"
   ]
  },
  {
   "cell_type": "code",
   "execution_count": 8,
   "metadata": {},
   "outputs": [],
   "source": [
    "# Keywords Matching \n",
    "\n",
    "# Greetings that user inputs  \n",
    "greeting_inputs= ['hi', 'hello','greetings', 'sup', 'hey']\n",
    "# Greeting chatbot responds back to user \n",
    "greeting_response= ['hello', 'hey', 'hi', \"what's up ?\", 'hello there']\n",
    "def greeting(statement):\n",
    "    for word in statement.split():\n",
    "        if word.lower() in greeting_inputs:\n",
    "            return random.choice(greeting_response)\n"
   ]
  },
  {
   "cell_type": "code",
   "execution_count": 9,
   "metadata": {},
   "outputs": [],
   "source": [
    "statement = ''\n",
    "greeting(statement)"
   ]
  },
  {
   "cell_type": "code",
   "execution_count": 10,
   "metadata": {},
   "outputs": [],
   "source": [
    "def response(user_input):\n",
    "    # user_input = 'What is schizophrenia'\n",
    "    user_input = user_input.lower()\n",
    "    ## Print the user's question \n",
    "    # print(user_input)\n",
    "    \n",
    "    # Set chatbot's response to an empty string \n",
    "    bot_response = ''\n",
    "    \n",
    "    # Append the user's input to the statement list created above \n",
    "    sent_tokens.append(user_input)\n",
    "    \n",
    "    # Print sentence list after the user's input \n",
    "    # print(sent_tokens)\n",
    "    \n",
    "    # Create a TfidfVectorizer Object \n",
    "    Tfid_vec = TfidfVectorizer (tokenizer = lem_normal, stop_words = 'english')\n",
    "    \n",
    "    # Convert the text to a matrix of term frequency inverse document frequency features \n",
    "    tfidf = Tfid_vec.fit_transform(sent_tokens)\n",
    "    \n",
    "    # Print the TFIDF features \n",
    "    # print(tfidf)\n",
    "    \n",
    "    # Get the similarity score \n",
    "    values = cosine_similarity(tfidf[-1], tfidf)\n",
    "    \n",
    "    ## print similarity scores \n",
    "    ## print(values)\n",
    "    # Get the index of the most similar text based on the user's input \n",
    "    \"\"\" use argsort to sort, and use position [-2] because that is the second most similar response\n",
    "    because the first is the user's original input which is position [-1] \"\"\"\n",
    "    index = values.argsort()[0][-2]\n",
    "    \n",
    "    # Reduce the number of list of the variable value to 1 list \n",
    "    flat = values.flatten()\n",
    "    #Sort the list in ascending order\n",
    "    flat.sort()\n",
    "    \n",
    "    # Get the most similar score to user input \n",
    "    similar_score = flat[-2]\n",
    "    \n",
    "    # Print similarity score \n",
    "    #print(similar_score)\n",
    "    \n",
    "    # If the variable similar_score is 0 that means there is no similarity with the user's input and the text \n",
    "    if (similar_score == 0):\n",
    "        bot_response = bot_response + 'Sorry, but I do not understand. Please ask another question.'\n",
    "    else: \n",
    "            bot_response = bot_response + sent_tokens[index] \n",
    "\n",
    "    # Print the chatbot's response \n",
    "    # print(bot_response)\n",
    "        \n",
    "    # Remove the user's input from the sentence tokens list    \n",
    "    sent_tokens.remove(user_input)\n",
    "\n",
    "    return bot_response\n"
   ]
  },
  {
   "cell_type": "code",
   "execution_count": 11,
   "metadata": {},
   "outputs": [
    {
     "name": "stdout",
     "output_type": "stream",
     "text": [
      "SmartBot: Hi my name is SmartBot. I will answer your questions about schizophrenia. To exit this chat, type leave.\n",
      "leave\n",
      "SmartBot: Bye, thanks for chatting!\n"
     ]
    }
   ],
   "source": [
    "flag= True \n",
    "print('SmartBot: Hi my name is SmartBot. I will answer your questions about schizophrenia. To exit this chat, type leave.')\n",
    "# When typing leave to exit the chat do not put a space after, and type a greeting from the list using lowercase letters. \n",
    "# Some potential inputs to get the chat started could be 'prevention', 'symptoms' and  'problems'.  \n",
    "while flag == True:\n",
    "    user_input = input()\n",
    "    user_input = user_input.lower()\n",
    "    if user_input != 'leave':\n",
    "        print()\n",
    "        if user_input== 'thanks' or user_input== 'thank you':\n",
    "            flag = False\n",
    "            print('SmartBot: Glad to help!')\n",
    "        else: \n",
    "            if greeting(user_input) != None: \n",
    "                print ('SmartBot: '+ greeting(user_input))\n",
    "            else:\n",
    "                \n",
    "                print('SmartBot: ' +response(user_input))       \n",
    "    else:\n",
    "        flag = False\n",
    "        print('SmartBot: Bye, thanks for chatting!')\n"
   ]
  },
  {
   "cell_type": "code",
   "execution_count": 12,
   "metadata": {},
   "outputs": [],
   "source": [
    "# Since the chatbot provides limited reponses with certain inputs these are some functions that summarize specific things related to Schizophrenia. \n"
   ]
  },
  {
   "cell_type": "code",
   "execution_count": 13,
   "metadata": {},
   "outputs": [],
   "source": [
    "Symptoms = {1:  'Delusions: Positive', 2: 'Hallucinations: Positive', 3: 'Disorganized speech: Positive',\n",
    "               4: 'Disordered behavior: Positive', 5:'Thought disorder: Positive', \n",
    "               6:'Alogia(speech poverty): Negative', 7:'Poor attention: Negative', 8:'Social withdrawal: Negative', \n",
    "               9:'Attention deficits: Negative'\n",
    "}"
   ]
  },
  {
   "cell_type": "code",
   "execution_count": 14,
   "metadata": {},
   "outputs": [
    {
     "data": {
      "text/plain": [
       "'Disorganized speech: Positive'"
      ]
     },
     "execution_count": 14,
     "metadata": {},
     "output_type": "execute_result"
    }
   ],
   "source": [
    "# Calling on function that that classifies the symptoms of schizophrenia as positive or negative, it returns a key-value pair for symptoms.\n",
    "# Replace the input argument with any number between 1-9.\n",
    "symptom_classification(3)\n"
   ]
  },
  {
   "cell_type": "code",
   "execution_count": 15,
   "metadata": {},
   "outputs": [],
   "source": [
    "Medications = {1: 'Name: Seroquel, Price = $11', 2: 'Name: Abilify, Price = $18', 3: 'Name: Zyprexa, Price = $13',\n",
    "               4: 'Name: Prochlorperazine , Price = $12', 5:'Name: Latuda, Price = $1,219', \n",
    "               6:'Name: Geodon, Price = $31', 7:'Name: Invega, Price = $242', 8:'Name: Perphenazine, Price = $23', \n",
    "               9:'Name: Molindone, Price = $89'\n",
    "}"
   ]
  },
  {
   "cell_type": "code",
   "execution_count": 16,
   "metadata": {},
   "outputs": [
    {
     "data": {
      "text/plain": [
       "'Name: Prochlorperazine , Price = $12'"
      ]
     },
     "execution_count": 16,
     "metadata": {},
     "output_type": "execute_result"
    }
   ],
   "source": [
    "# Calling on a function that returns the name and price of medication as a key-value pair. \n",
    "# Replace the input argument with any number between 1-9.\n",
    "get_medication(4)"
   ]
  },
  {
   "cell_type": "code",
   "execution_count": 17,
   "metadata": {},
   "outputs": [],
   "source": [
    "treatment_list = ['Consult a doctor and ask about treatment options', 'Take prescribed medication', \n",
    "                  'If feeling depressed, talk to someone', 'Psychiatric therapy', 'Vocational rehabilitation', \n",
    "                  'Family therapy', 'Hospitalization', \n",
    "                 'Electroconvulsive therapy'] "
   ]
  },
  {
   "cell_type": "code",
   "execution_count": 18,
   "metadata": {},
   "outputs": [
    {
     "data": {
      "text/plain": [
       "'If feeling depressed, talk to someone'"
      ]
     },
     "execution_count": 18,
     "metadata": {},
     "output_type": "execute_result"
    }
   ],
   "source": [
    "## Calling on a functions that returns a random treatment idea from list \n",
    "treatment_options()"
   ]
  }
 ],
 "metadata": {
  "kernelspec": {
   "display_name": "Python 3",
   "language": "python",
   "name": "python3"
  },
  "language_info": {
   "codemirror_mode": {
    "name": "ipython",
    "version": 3
   },
   "file_extension": ".py",
   "mimetype": "text/x-python",
   "name": "python",
   "nbconvert_exporter": "python",
   "pygments_lexer": "ipython3",
   "version": "3.7.3"
  }
 },
 "nbformat": 4,
 "nbformat_minor": 2
}
